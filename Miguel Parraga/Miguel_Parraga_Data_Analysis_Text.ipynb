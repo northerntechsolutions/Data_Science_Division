{
 "cells": [
  {
   "cell_type": "markdown",
   "metadata": {},
   "source": [
    "# Tweets Dataset\n",
    "\n",
    "The sentiment dataset comprises 1,600,000 tweets obtained through the Twitter API, and has been annotated to indicate sentiment, with 0 representing negative and 4 representing positive. This dataset is valuable for sentiment analysis, as it provides a large and diverse collection of tweets that can be used to train and test sentiment detection algorithms. With its extensive range of user-generated content, the dataset offers insights into public opinion and emotional expression on various topics. \n",
    "\n",
    "This analysis aims to facilitate sentiment analysis through Twitter data. By examining the data, we will gain insights into the prevailing attitudes and emotions expressed within the platform. This process will enable us to identify trends, patterns, and sentiments, which can be valuable for various applications such as brand monitoring, market research, and public opinion analysis.\n",
    "\n",
    "\n",
    "##### Content\n",
    "1. Data Exploration\n",
    "2. Data visualization\n",
    "\n",
    "##### Features\n",
    "- target: the polarity of the tweet (0 = negative and 4 = positive)\n",
    "- ids: The id of the tweet ( 2087)\n",
    "- date: the date of the tweet (Sat May 16 23:58:44 UTC 2009)\n",
    "- flag: The query (lyx). If there is no query, then this value is NO_QUERY.\n",
    "- user: the user that tweeted.\n",
    "- text: the text of the tweet.\n",
    "\n",
    "## Questions to Be Answered with the Dataset\n",
    "1. What is the distribution of sentiments (positive and negative) in the tweets?\n",
    "2. Are there temporal trends in the polarity of tweets over time?\n",
    "3. Which topics or keywords are associated with positive or negative sentiments in the tweets?\n",
    "4. Are there specific users who tend to post more positive or negative tweets?\n",
    "5. Can patterns or correlations be identified between the user who posts the tweet and its polarity?\n",
    "6. How does the polarity of tweets compare based on the associated query (flag)?\n",
    "7. What insights can be gained from analyzing the relationship between the date of the tweet and its polarity?"
   ]
  },
  {
   "cell_type": "code",
   "execution_count": 1,
   "metadata": {},
   "outputs": [],
   "source": [
    "# import necessary libraries\n",
    "import numpy as np\n",
    "import pandas as pd\n",
    "import seaborn as sns\n",
    "import matplotlib.pyplot as plt\n"
   ]
  },
  {
   "cell_type": "code",
   "execution_count": 2,
   "metadata": {},
   "outputs": [],
   "source": [
    "# read the csv file \n",
    "df = pd.read_csv(\"tweets.csv\")"
   ]
  },
  {
   "cell_type": "markdown",
   "metadata": {},
   "source": [
    "## Data Exploration"
   ]
  },
  {
   "cell_type": "code",
   "execution_count": 3,
   "metadata": {},
   "outputs": [
    {
     "data": {
      "text/html": [
       "<div>\n",
       "<style scoped>\n",
       "    .dataframe tbody tr th:only-of-type {\n",
       "        vertical-align: middle;\n",
       "    }\n",
       "\n",
       "    .dataframe tbody tr th {\n",
       "        vertical-align: top;\n",
       "    }\n",
       "\n",
       "    .dataframe thead th {\n",
       "        text-align: right;\n",
       "    }\n",
       "</style>\n",
       "<table border=\"1\" class=\"dataframe\">\n",
       "  <thead>\n",
       "    <tr style=\"text-align: right;\">\n",
       "      <th></th>\n",
       "      <th>Target</th>\n",
       "      <th>ID</th>\n",
       "      <th>Date</th>\n",
       "      <th>flag</th>\n",
       "      <th>User</th>\n",
       "      <th>Text</th>\n",
       "    </tr>\n",
       "  </thead>\n",
       "  <tbody>\n",
       "    <tr>\n",
       "      <th>0</th>\n",
       "      <td>0</td>\n",
       "      <td>1467810672</td>\n",
       "      <td>Mon Apr 06 22:19:49 PDT 2009</td>\n",
       "      <td>NO_QUERY</td>\n",
       "      <td>scotthamilton</td>\n",
       "      <td>is upset that he can't update his Facebook by ...</td>\n",
       "    </tr>\n",
       "    <tr>\n",
       "      <th>1</th>\n",
       "      <td>0</td>\n",
       "      <td>1467810917</td>\n",
       "      <td>Mon Apr 06 22:19:53 PDT 2009</td>\n",
       "      <td>NO_QUERY</td>\n",
       "      <td>mattycus</td>\n",
       "      <td>@Kenichan I dived many times for the ball. Man...</td>\n",
       "    </tr>\n",
       "    <tr>\n",
       "      <th>2</th>\n",
       "      <td>0</td>\n",
       "      <td>1467811184</td>\n",
       "      <td>Mon Apr 06 22:19:57 PDT 2009</td>\n",
       "      <td>NO_QUERY</td>\n",
       "      <td>ElleCTF</td>\n",
       "      <td>my whole body feels itchy and like its on fire</td>\n",
       "    </tr>\n",
       "    <tr>\n",
       "      <th>3</th>\n",
       "      <td>0</td>\n",
       "      <td>1467811193</td>\n",
       "      <td>Mon Apr 06 22:19:57 PDT 2009</td>\n",
       "      <td>NO_QUERY</td>\n",
       "      <td>Karoli</td>\n",
       "      <td>@nationwideclass no, it's not behaving at all....</td>\n",
       "    </tr>\n",
       "    <tr>\n",
       "      <th>4</th>\n",
       "      <td>0</td>\n",
       "      <td>1467811372</td>\n",
       "      <td>Mon Apr 06 22:20:00 PDT 2009</td>\n",
       "      <td>NO_QUERY</td>\n",
       "      <td>joy_wolf</td>\n",
       "      <td>@Kwesidei not the whole crew</td>\n",
       "    </tr>\n",
       "  </tbody>\n",
       "</table>\n",
       "</div>"
      ],
      "text/plain": [
       "   Target          ID                          Date      flag           User  \\\n",
       "0       0  1467810672  Mon Apr 06 22:19:49 PDT 2009  NO_QUERY  scotthamilton   \n",
       "1       0  1467810917  Mon Apr 06 22:19:53 PDT 2009  NO_QUERY       mattycus   \n",
       "2       0  1467811184  Mon Apr 06 22:19:57 PDT 2009  NO_QUERY        ElleCTF   \n",
       "3       0  1467811193  Mon Apr 06 22:19:57 PDT 2009  NO_QUERY         Karoli   \n",
       "4       0  1467811372  Mon Apr 06 22:20:00 PDT 2009  NO_QUERY       joy_wolf   \n",
       "\n",
       "                                                Text  \n",
       "0  is upset that he can't update his Facebook by ...  \n",
       "1  @Kenichan I dived many times for the ball. Man...  \n",
       "2    my whole body feels itchy and like its on fire   \n",
       "3  @nationwideclass no, it's not behaving at all....  \n",
       "4                      @Kwesidei not the whole crew   "
      ]
     },
     "execution_count": 3,
     "metadata": {},
     "output_type": "execute_result"
    }
   ],
   "source": [
    "# show first few records\n",
    "df.head ()"
   ]
  },
  {
   "cell_type": "code",
   "execution_count": 4,
   "metadata": {},
   "outputs": [
    {
     "data": {
      "text/plain": [
       "(1048575, 6)"
      ]
     },
     "execution_count": 4,
     "metadata": {},
     "output_type": "execute_result"
    }
   ],
   "source": [
    "# get the number of records and columns\n",
    "df.shape"
   ]
  },
  {
   "cell_type": "code",
   "execution_count": 5,
   "metadata": {},
   "outputs": [
    {
     "name": "stdout",
     "output_type": "stream",
     "text": [
      "<class 'pandas.core.frame.DataFrame'>\n",
      "RangeIndex: 1048575 entries, 0 to 1048574\n",
      "Data columns (total 6 columns):\n",
      " #   Column  Non-Null Count    Dtype \n",
      "---  ------  --------------    ----- \n",
      " 0   Target  1048575 non-null  int64 \n",
      " 1   ID      1048575 non-null  int64 \n",
      " 2   Date    1048575 non-null  object\n",
      " 3   flag    1048575 non-null  object\n",
      " 4   User    1048575 non-null  object\n",
      " 5   Text    1048575 non-null  object\n",
      "dtypes: int64(2), object(4)\n",
      "memory usage: 48.0+ MB\n"
     ]
    }
   ],
   "source": [
    "# get concise summary of the dataframe\n",
    "df.info()"
   ]
  },
  {
   "cell_type": "code",
   "execution_count": 6,
   "metadata": {},
   "outputs": [
    {
     "data": {
      "text/plain": [
       "Target    0\n",
       "ID        0\n",
       "Date      0\n",
       "flag      0\n",
       "User      0\n",
       "Text      0\n",
       "dtype: int64"
      ]
     },
     "execution_count": 6,
     "metadata": {},
     "output_type": "execute_result"
    }
   ],
   "source": [
    "# check missing values\n",
    "df.isnull().sum()\n"
   ]
  },
  {
   "cell_type": "code",
   "execution_count": 7,
   "metadata": {},
   "outputs": [
    {
     "data": {
      "text/plain": [
       "0"
      ]
     },
     "execution_count": 7,
     "metadata": {},
     "output_type": "execute_result"
    }
   ],
   "source": [
    "# check duplicate values\n",
    "df.duplicated().sum()\n"
   ]
  },
  {
   "cell_type": "code",
   "execution_count": 8,
   "metadata": {},
   "outputs": [
    {
     "data": {
      "text/html": [
       "<div>\n",
       "<style scoped>\n",
       "    .dataframe tbody tr th:only-of-type {\n",
       "        vertical-align: middle;\n",
       "    }\n",
       "\n",
       "    .dataframe tbody tr th {\n",
       "        vertical-align: top;\n",
       "    }\n",
       "\n",
       "    .dataframe thead th {\n",
       "        text-align: right;\n",
       "    }\n",
       "</style>\n",
       "<table border=\"1\" class=\"dataframe\">\n",
       "  <thead>\n",
       "    <tr style=\"text-align: right;\">\n",
       "      <th></th>\n",
       "      <th>Target</th>\n",
       "      <th>ID</th>\n",
       "    </tr>\n",
       "  </thead>\n",
       "  <tbody>\n",
       "    <tr>\n",
       "      <th>count</th>\n",
       "      <td>1.048575e+06</td>\n",
       "      <td>1.048575e+06</td>\n",
       "    </tr>\n",
       "    <tr>\n",
       "      <th>mean</th>\n",
       "      <td>9.482431e-01</td>\n",
       "      <td>1.976166e+09</td>\n",
       "    </tr>\n",
       "    <tr>\n",
       "      <th>std</th>\n",
       "      <td>1.701120e+00</td>\n",
       "      <td>2.300580e+08</td>\n",
       "    </tr>\n",
       "    <tr>\n",
       "      <th>min</th>\n",
       "      <td>0.000000e+00</td>\n",
       "      <td>1.467811e+09</td>\n",
       "    </tr>\n",
       "    <tr>\n",
       "      <th>25%</th>\n",
       "      <td>0.000000e+00</td>\n",
       "      <td>1.824526e+09</td>\n",
       "    </tr>\n",
       "    <tr>\n",
       "      <th>50%</th>\n",
       "      <td>0.000000e+00</td>\n",
       "      <td>1.990869e+09</td>\n",
       "    </tr>\n",
       "    <tr>\n",
       "      <th>75%</th>\n",
       "      <td>0.000000e+00</td>\n",
       "      <td>2.198903e+09</td>\n",
       "    </tr>\n",
       "    <tr>\n",
       "      <th>max</th>\n",
       "      <td>4.000000e+00</td>\n",
       "      <td>2.329206e+09</td>\n",
       "    </tr>\n",
       "  </tbody>\n",
       "</table>\n",
       "</div>"
      ],
      "text/plain": [
       "             Target            ID\n",
       "count  1.048575e+06  1.048575e+06\n",
       "mean   9.482431e-01  1.976166e+09\n",
       "std    1.701120e+00  2.300580e+08\n",
       "min    0.000000e+00  1.467811e+09\n",
       "25%    0.000000e+00  1.824526e+09\n",
       "50%    0.000000e+00  1.990869e+09\n",
       "75%    0.000000e+00  2.198903e+09\n",
       "max    4.000000e+00  2.329206e+09"
      ]
     },
     "execution_count": 8,
     "metadata": {},
     "output_type": "execute_result"
    }
   ],
   "source": [
    "df.describe()\n"
   ]
  },
  {
   "cell_type": "markdown",
   "metadata": {},
   "source": [
    "## Data Visualization\n",
    "\n",
    "#### What is the distribution of sentiments (positive and negative) in the tweets?"
   ]
  },
  {
   "cell_type": "code",
   "execution_count": 9,
   "metadata": {},
   "outputs": [
    {
     "data": {
      "image/png": "[encoded data removed]",
      "text/plain": [
       "<Figure size 640x480 with 1 Axes>"
      ]
     },
     "metadata": {},
     "output_type": "display_data"
    }
   ],
   "source": [
    "#Distribution of sentiments\n",
    "labels = ['Negative' , 'Positive']\n",
    "plt.pie(df['Target'].value_counts(), autopct = '%1.1f%%', labels= labels )\n",
    "plt.title('Distribution of Sentiments')\n",
    "plt.show()\n"
   ]
  },
  {
   "cell_type": "markdown",
   "metadata": {},
   "source": [
    "##### Report\n",
    "In the graph, we can observe the distribution of sentiments in the tweets. The blue color represents the negative sentiments, accounting for 76.3%, while the orange color represents the positive sentiments, comprising 23.7%.\n",
    "\n",
    "This analysis provides valuable insights into the sentiments expressed in the tweets. The majority of the sentiments are negative, indicating a prevailing trend of unfavorable opinions or emotions. Understanding the distribution of sentiments in this manner can offer significant implications for various purposes, such as brand reputation management, public opinion analysis, or market research.\n",
    "\n",
    "By identifying and quantifying the prevalence of negative and positive sentiments, businesses and organizations can gain a deeper understanding of public perception and tailor their strategies accordingly. This data-driven approach can be instrumental in making informed decisions and addressing any underlying issues that may be contributing to the negative sentiments expressed in the tweets.\n",
    "\n",
    "It is crucial to note that while sentiment analysis provides a snapshot of public opinion at a specific time, it may not capture the full complexity of human emotions. Context, sarcasm, and cultural nuances can impact the accuracy of sentiment analysis. Therefore, it is essential to complement quantitative data with qualitative insights to gain a comprehensive understanding of public sentiments.\n",
    "\n",
    "Furthermore, this analysis underscores the importance of sentiment analysis in the realm of data analytics. By leveraging tools and techniques to extract and interpret sentiment from textual data, businesses can harness valuable insights that can drive meaningful actions and improvements.\n",
    "\n",
    "In conclusion, the distribution of sentiments in the analyzed tweets reveals a significant predominance of negative expressions. This finding underscores the need for proactive measures to address any underlying issues and enhance overall sentiment. By incorporating sentiment analysis into data analytics practices, businesses can gain a competitive edge and effectively respond to public opinion.\n",
    "\n",
    "As for recommendations, it is important to consider the context in which the tweets were posted. Are there specific events or topics that are driving the sentiments? It may also be beneficial to further analyze the content of the tweets to identify specific themes or issues that are contributing to the sentiments expressed. Additionally, it would be valuable to monitor any changes in sentiment over time to understand evolving public opinion.\n"
   ]
  },
  {
   "cell_type": "markdown",
   "metadata": {},
   "source": [
    "#### Who has written the most tweets?\n"
   ]
  },
  {
   "cell_type": "code",
   "execution_count": 18,
   "metadata": {},
   "outputs": [
    {
     "data": {
      "text/html": [
       "<div>\n",
       "<style scoped>\n",
       "    .dataframe tbody tr th:only-of-type {\n",
       "        vertical-align: middle;\n",
       "    }\n",
       "\n",
       "    .dataframe tbody tr th {\n",
       "        vertical-align: top;\n",
       "    }\n",
       "\n",
       "    .dataframe thead th {\n",
       "        text-align: right;\n",
       "    }\n",
       "</style>\n",
       "<table border=\"1\" class=\"dataframe\">\n",
       "  <thead>\n",
       "    <tr style=\"text-align: right;\">\n",
       "      <th></th>\n",
       "      <th>User</th>\n",
       "      <th>count</th>\n",
       "    </tr>\n",
       "  </thead>\n",
       "  <tbody>\n",
       "    <tr>\n",
       "      <th>0</th>\n",
       "      <td>lost_dog</td>\n",
       "      <td>549</td>\n",
       "    </tr>\n",
       "    <tr>\n",
       "      <th>1</th>\n",
       "      <td>tweetpet</td>\n",
       "      <td>310</td>\n",
       "    </tr>\n",
       "    <tr>\n",
       "      <th>2</th>\n",
       "      <td>webwoke</td>\n",
       "      <td>264</td>\n",
       "    </tr>\n",
       "    <tr>\n",
       "      <th>3</th>\n",
       "      <td>mcraddictal</td>\n",
       "      <td>238</td>\n",
       "    </tr>\n",
       "    <tr>\n",
       "      <th>4</th>\n",
       "      <td>wowlew</td>\n",
       "      <td>210</td>\n",
       "    </tr>\n",
       "    <tr>\n",
       "      <th>5</th>\n",
       "      <td>SallytheShizzle</td>\n",
       "      <td>201</td>\n",
       "    </tr>\n",
       "    <tr>\n",
       "      <th>6</th>\n",
       "      <td>nuttychris</td>\n",
       "      <td>199</td>\n",
       "    </tr>\n",
       "    <tr>\n",
       "      <th>7</th>\n",
       "      <td>tsarnick</td>\n",
       "      <td>184</td>\n",
       "    </tr>\n",
       "    <tr>\n",
       "      <th>8</th>\n",
       "      <td>Djalfy</td>\n",
       "      <td>164</td>\n",
       "    </tr>\n",
       "    <tr>\n",
       "      <th>9</th>\n",
       "      <td>StDAY</td>\n",
       "      <td>156</td>\n",
       "    </tr>\n",
       "  </tbody>\n",
       "</table>\n",
       "</div>"
      ],
      "text/plain": [
       "              User  count\n",
       "0         lost_dog    549\n",
       "1         tweetpet    310\n",
       "2          webwoke    264\n",
       "3      mcraddictal    238\n",
       "4           wowlew    210\n",
       "5  SallytheShizzle    201\n",
       "6       nuttychris    199\n",
       "7         tsarnick    184\n",
       "8           Djalfy    164\n",
       "9            StDAY    156"
      ]
     },
     "execution_count": 18,
     "metadata": {},
     "output_type": "execute_result"
    }
   ],
   "source": [
    "# users with most tweets\n",
    "most_tweets = df['User'].value_counts().nlargest(10).reset_index()\n",
    "most_tweets"
   ]
  },
  {
   "cell_type": "code",
   "execution_count": 19,
   "metadata": {},
   "outputs": [
    {
     "data": {
      "text/plain": [
       "([0, 1, 2, 3, 4, 5, 6, 7, 8, 9],\n",
       " [Text(0, 0, 'lost_dog'),\n",
       "  Text(1, 0, 'tweetpet'),\n",
       "  Text(2, 0, 'webwoke'),\n",
       "  Text(3, 0, 'mcraddictal'),\n",
       "  Text(4, 0, 'wowlew'),\n",
       "  Text(5, 0, 'SallytheShizzle'),\n",
       "  Text(6, 0, 'nuttychris'),\n",
       "  Text(7, 0, 'tsarnick'),\n",
       "  Text(8, 0, 'Djalfy'),\n",
       "  Text(9, 0, 'StDAY')])"
      ]
     },
     "execution_count": 19,
     "metadata": {},
     "output_type": "execute_result"
    },
    {
     "data": {
      "image/png": "[encoded data removed]",
      "text/plain": [
       "<Figure size 640x480 with 1 Axes>"
      ]
     },
     "metadata": {},
     "output_type": "display_data"
    }
   ],
   "source": [
    "most_tweets_colums = ['User', 'count']\n",
    "sns.barplot (x = 'User', y = 'count', data = most_tweets)\n",
    "plt.title ('Users with the most tweets')\n",
    "plt.xlabel ('User')\n",
    "plt.ylabel ('Tweets')\n",
    "plt.xticks(rotation=45)"
   ]
  },
  {
   "cell_type": "markdown",
   "metadata": {},
   "source": [
    "##### Report\n",
    "\n",
    "In the graph, we can observe the top 10 users who have authored the most tweets and the corresponding quantity of tweets generated. This data is crucial for our data analysis, as it provides insights into the most active users within the dataset.\n",
    "\n",
    "Analyzing the tweet activity of these top users can offer valuable information regarding user engagement, content preferences, and potential influencers within the network. By understanding the behavior of these prolific tweeters, we can gain a deeper understanding of the dynamics at play within the dataset.\n",
    "\n",
    "Furthermore, examining the types of content shared by these users, as well as the level of interaction their tweets receive, can provide additional layers of insight. This information can be leveraged to refine content strategies, identify key trends, and potentially even forecast future user behavior.\n",
    "\n",
    "As we delve into this analysis, it's important to consider the implications of these findings and how they may impact our overall objectives. Are there specific patterns or themes that emerge from the tweets of these top users? How do these patterns align with our goals and target audience? These are critical questions that must be addressed as we move forward with our data-driven insights.\n",
    "\n",
    "In conclusion, the visualization of the top 10 users and their tweet volumes serves as a valuable starting point for our analysis. However, it's essential to delve deeper into the behaviors and characteristics of these users to extract meaningful and actionable insights. By doing so, we can refine our strategies, optimize our content, and ultimately enhance our overall impact within the digital landscape.\n",
    "\n",
    "Moving forward, it's recommended to conduct a more granular analysis of the tweet content, user interactions, and broader trends within the dataset. Additionally, exploring potential collaborations or engagement strategies with these top users could yield fruitful results. By continuing to leverage data-driven insights, we can refine our approach and drive meaningful outcomes within our digital endeavors."
   ]
  }
 ],
 "metadata": {
  "kernelspec": {
   "display_name": "Python 3",
   "language": "python",
   "name": "python3"
  },
  "language_info": {
   "codemirror_mode": {
    "name": "ipython",
    "version": 3
   },
   "file_extension": ".py",
   "mimetype": "text/x-python",
   "name": "python",
   "nbconvert_exporter": "python",
   "pygments_lexer": "ipython3",
   "version": "3.12.2"
  }
 },
 "nbformat": 4,
 "nbformat_minor": 2
}
