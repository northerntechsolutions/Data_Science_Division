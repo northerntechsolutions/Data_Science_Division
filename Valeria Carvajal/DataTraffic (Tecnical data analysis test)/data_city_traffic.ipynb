{
 "cells": [
  {
   "cell_type": "markdown",
   "metadata": {},
   "source": [
    "## Futuristic City Traffic\n",
    "This notebook is about traffic data within a futuristic urban environment. Each record of the Dataset represents a unique snapshot of various factors affecting traffic conditions in six fictional cities. \n",
    "\n",
    "The analysis of this Dataset will allow us to understand traffic patterns, it envolves identify trends, behaviors and regularities in how traffic flows within the futuristic urban environments. Through this analysis, one can uncover information about how traffics behave under differents conditions, such as types o vehicles on the road, varying weather conditions, occurrences of random events. Understing these patterns can help in make informed decisions related to traffic management, urban planning to improve transportation eficiency.\n",
    "\n",
    "This Dataset includes eleven columns of data such as Vehicle Type, Speed, Energy, Traffic Density.\n",
    "\n",
    "**Content:**\n",
    "1. Data Exploring.\n",
    "2. Data Visualization.\n",
    "\n",
    "**Features:**\n",
    "\n",
    "1. **City:** Name of the city (e.g., MetropolisX, SolarisVille).\n",
    "2. **Vehicle Type:** Type of vehicle (e.g., Car, Flying Car).\n",
    "3. **Weather Conditions:** Current weather (e.g., Clear, Rainy).\n",
    "4. **Economic Conditions:** Economic state of the city (e.g., Booming, Recession).\n",
    "5. **Day of Week:** Day of the week.\n",
    "5. **Hour of Day:** Hour of the day when the data was recorded.\n",
    "6. **Speed:** Recorded vehicle speed.\n",
    "7. **Energy Consumption:** Estimated energy consumption based on vehicle type and speed.\n",
    "8. **Is Peak Hour:** Indicator if the record was during peak traffic hours.\n",
    "9. **Random Event Occurred:** Indicator if a random event (e.g., accidents, road closures) occurred.\n",
    "10. **Traffic Density:** Density of traffic at the time of recording.\n",
    "\n",
    "## Questions to Be Answered with the Dataset\n",
    "\n",
    "1. What is the most used type of vehicle?\n",
    "2. What is the distribution of traffic density in the different cities?\n"
   ]
  },
  {
   "cell_type": "code",
   "execution_count": 32,
   "metadata": {},
   "outputs": [],
   "source": [
    "#Import necessary libraries\n",
    "import numpy as np\n",
    "import pandas as pd\n",
    "import seaborn as sns\n",
    "import matplotlib.pyplot as plt"
   ]
  },
  {
   "cell_type": "code",
   "execution_count": 33,
   "metadata": {},
   "outputs": [],
   "source": [
    "#Read the csv file\n",
    "df = pd.read_csv(\"futuristic_city_traffic.csv\")"
   ]
  },
  {
   "cell_type": "markdown",
   "metadata": {},
   "source": [
    "## Data Exploration"
   ]
  },
  {
   "cell_type": "code",
   "execution_count": 34,
   "metadata": {},
   "outputs": [
    {
     "data": {
      "text/html": [
       "<div>\n",
       "<style scoped>\n",
       "    .dataframe tbody tr th:only-of-type {\n",
       "        vertical-align: middle;\n",
       "    }\n",
       "\n",
       "    .dataframe tbody tr th {\n",
       "        vertical-align: top;\n",
       "    }\n",
       "\n",
       "    .dataframe thead th {\n",
       "        text-align: right;\n",
       "    }\n",
       "</style>\n",
       "<table border=\"1\" class=\"dataframe\">\n",
       "  <thead>\n",
       "    <tr style=\"text-align: right;\">\n",
       "      <th></th>\n",
       "      <th>City</th>\n",
       "      <th>Vehicle Type</th>\n",
       "      <th>Weather</th>\n",
       "      <th>Economic Condition</th>\n",
       "      <th>Day Of Week</th>\n",
       "      <th>Hour Of Day</th>\n",
       "      <th>Speed</th>\n",
       "      <th>Is Peak Hour</th>\n",
       "      <th>Random Event Occurred</th>\n",
       "      <th>Energy Consumption</th>\n",
       "      <th>Traffic Density</th>\n",
       "    </tr>\n",
       "  </thead>\n",
       "  <tbody>\n",
       "    <tr>\n",
       "      <th>0</th>\n",
       "      <td>SolarisVille</td>\n",
       "      <td>Drone</td>\n",
       "      <td>Snowy</td>\n",
       "      <td>Stable</td>\n",
       "      <td>Sunday</td>\n",
       "      <td>20</td>\n",
       "      <td>29.4268</td>\n",
       "      <td>0</td>\n",
       "      <td>0</td>\n",
       "      <td>14.7134</td>\n",
       "      <td>0.5241</td>\n",
       "    </tr>\n",
       "    <tr>\n",
       "      <th>1</th>\n",
       "      <td>AquaCity</td>\n",
       "      <td>Flying Car</td>\n",
       "      <td>Solar Flare</td>\n",
       "      <td>Recession</td>\n",
       "      <td>Wednesday</td>\n",
       "      <td>2</td>\n",
       "      <td>118.8000</td>\n",
       "      <td>0</td>\n",
       "      <td>0</td>\n",
       "      <td>143.5682</td>\n",
       "      <td>0.3208</td>\n",
       "    </tr>\n",
       "    <tr>\n",
       "      <th>2</th>\n",
       "      <td>Neuroburg</td>\n",
       "      <td>Autonomous Vehicle</td>\n",
       "      <td>Solar Flare</td>\n",
       "      <td>Recession</td>\n",
       "      <td>Wednesday</td>\n",
       "      <td>16</td>\n",
       "      <td>100.3904</td>\n",
       "      <td>0</td>\n",
       "      <td>0</td>\n",
       "      <td>91.2640</td>\n",
       "      <td>0.0415</td>\n",
       "    </tr>\n",
       "    <tr>\n",
       "      <th>3</th>\n",
       "      <td>Ecoopolis</td>\n",
       "      <td>Drone</td>\n",
       "      <td>Clear</td>\n",
       "      <td>Booming</td>\n",
       "      <td>Thursday</td>\n",
       "      <td>8</td>\n",
       "      <td>76.8000</td>\n",
       "      <td>1</td>\n",
       "      <td>0</td>\n",
       "      <td>46.0753</td>\n",
       "      <td>0.1811</td>\n",
       "    </tr>\n",
       "    <tr>\n",
       "      <th>4</th>\n",
       "      <td>AquaCity</td>\n",
       "      <td>Autonomous Vehicle</td>\n",
       "      <td>Solar Flare</td>\n",
       "      <td>Stable</td>\n",
       "      <td>Saturday</td>\n",
       "      <td>16</td>\n",
       "      <td>45.2176</td>\n",
       "      <td>0</td>\n",
       "      <td>0</td>\n",
       "      <td>40.1934</td>\n",
       "      <td>0.4544</td>\n",
       "    </tr>\n",
       "  </tbody>\n",
       "</table>\n",
       "</div>"
      ],
      "text/plain": [
       "           City        Vehicle Type      Weather Economic Condition  \\\n",
       "0  SolarisVille               Drone        Snowy             Stable   \n",
       "1      AquaCity          Flying Car  Solar Flare          Recession   \n",
       "2     Neuroburg  Autonomous Vehicle  Solar Flare          Recession   \n",
       "3     Ecoopolis               Drone        Clear            Booming   \n",
       "4      AquaCity  Autonomous Vehicle  Solar Flare             Stable   \n",
       "\n",
       "  Day Of Week  Hour Of Day     Speed  Is Peak Hour  Random Event Occurred  \\\n",
       "0      Sunday           20   29.4268             0                      0   \n",
       "1   Wednesday            2  118.8000             0                      0   \n",
       "2   Wednesday           16  100.3904             0                      0   \n",
       "3    Thursday            8   76.8000             1                      0   \n",
       "4    Saturday           16   45.2176             0                      0   \n",
       "\n",
       "   Energy Consumption  Traffic Density  \n",
       "0             14.7134           0.5241  \n",
       "1            143.5682           0.3208  \n",
       "2             91.2640           0.0415  \n",
       "3             46.0753           0.1811  \n",
       "4             40.1934           0.4544  "
      ]
     },
     "execution_count": 34,
     "metadata": {},
     "output_type": "execute_result"
    }
   ],
   "source": [
    "#Show the first few records\n",
    "df.head()"
   ]
  },
  {
   "cell_type": "code",
   "execution_count": 35,
   "metadata": {},
   "outputs": [
    {
     "data": {
      "text/plain": [
       "(1048575, 11)"
      ]
     },
     "execution_count": 35,
     "metadata": {},
     "output_type": "execute_result"
    }
   ],
   "source": [
    "#Get the numbers of records and columns\n",
    "df.shape"
   ]
  },
  {
   "cell_type": "code",
   "execution_count": 36,
   "metadata": {},
   "outputs": [
    {
     "name": "stdout",
     "output_type": "stream",
     "text": [
      "<class 'pandas.core.frame.DataFrame'>\n",
      "RangeIndex: 1048575 entries, 0 to 1048574\n",
      "Data columns (total 11 columns):\n",
      " #   Column                 Non-Null Count    Dtype  \n",
      "---  ------                 --------------    -----  \n",
      " 0   City                   1048575 non-null  object \n",
      " 1   Vehicle Type           1048575 non-null  object \n",
      " 2   Weather                1048575 non-null  object \n",
      " 3   Economic Condition     1048575 non-null  object \n",
      " 4   Day Of Week            1048575 non-null  object \n",
      " 5   Hour Of Day            1048575 non-null  int64  \n",
      " 6   Speed                  1048575 non-null  float64\n",
      " 7   Is Peak Hour           1048575 non-null  int64  \n",
      " 8   Random Event Occurred  1048575 non-null  int64  \n",
      " 9   Energy Consumption     1048575 non-null  float64\n",
      " 10  Traffic Density        1048575 non-null  float64\n",
      "dtypes: float64(3), int64(3), object(5)\n",
      "memory usage: 88.0+ MB\n"
     ]
    }
   ],
   "source": [
    "#Get concise sumary of the dataframe\n",
    "df.info()"
   ]
  },
  {
   "cell_type": "code",
   "execution_count": 37,
   "metadata": {},
   "outputs": [
    {
     "data": {
      "text/plain": [
       "City                     0\n",
       "Vehicle Type             0\n",
       "Weather                  0\n",
       "Economic Condition       0\n",
       "Day Of Week              0\n",
       "Hour Of Day              0\n",
       "Speed                    0\n",
       "Is Peak Hour             0\n",
       "Random Event Occurred    0\n",
       "Energy Consumption       0\n",
       "Traffic Density          0\n",
       "dtype: int64"
      ]
     },
     "execution_count": 37,
     "metadata": {},
     "output_type": "execute_result"
    }
   ],
   "source": [
    "#Check missing values\n",
    "df.isnull().sum()"
   ]
  },
  {
   "cell_type": "code",
   "execution_count": 38,
   "metadata": {},
   "outputs": [
    {
     "data": {
      "text/plain": [
       "0"
      ]
     },
     "execution_count": 38,
     "metadata": {},
     "output_type": "execute_result"
    }
   ],
   "source": [
    "#Check duplicated values\n",
    "df.duplicated().sum()"
   ]
  },
  {
   "cell_type": "code",
   "execution_count": 39,
   "metadata": {},
   "outputs": [
    {
     "data": {
      "text/html": [
       "<div>\n",
       "<style scoped>\n",
       "    .dataframe tbody tr th:only-of-type {\n",
       "        vertical-align: middle;\n",
       "    }\n",
       "\n",
       "    .dataframe tbody tr th {\n",
       "        vertical-align: top;\n",
       "    }\n",
       "\n",
       "    .dataframe thead th {\n",
       "        text-align: right;\n",
       "    }\n",
       "</style>\n",
       "<table border=\"1\" class=\"dataframe\">\n",
       "  <thead>\n",
       "    <tr style=\"text-align: right;\">\n",
       "      <th></th>\n",
       "      <th>Hour Of Day</th>\n",
       "      <th>Speed</th>\n",
       "      <th>Is Peak Hour</th>\n",
       "      <th>Random Event Occurred</th>\n",
       "      <th>Energy Consumption</th>\n",
       "      <th>Traffic Density</th>\n",
       "    </tr>\n",
       "  </thead>\n",
       "  <tbody>\n",
       "    <tr>\n",
       "      <th>count</th>\n",
       "      <td>1.048575e+06</td>\n",
       "      <td>1.048575e+06</td>\n",
       "      <td>1.048575e+06</td>\n",
       "      <td>1.048575e+06</td>\n",
       "      <td>1.048575e+06</td>\n",
       "      <td>1.048575e+06</td>\n",
       "    </tr>\n",
       "    <tr>\n",
       "      <th>mean</th>\n",
       "      <td>1.150741e+01</td>\n",
       "      <td>5.993168e+01</td>\n",
       "      <td>1.547329e-01</td>\n",
       "      <td>4.999356e-02</td>\n",
       "      <td>4.945187e+01</td>\n",
       "      <td>2.771250e-01</td>\n",
       "    </tr>\n",
       "    <tr>\n",
       "      <th>std</th>\n",
       "      <td>6.918308e+00</td>\n",
       "      <td>2.663434e+01</td>\n",
       "      <td>3.616500e-01</td>\n",
       "      <td>2.179318e-01</td>\n",
       "      <td>2.527329e+01</td>\n",
       "      <td>2.191737e-01</td>\n",
       "    </tr>\n",
       "    <tr>\n",
       "      <th>min</th>\n",
       "      <td>0.000000e+00</td>\n",
       "      <td>6.693400e+00</td>\n",
       "      <td>0.000000e+00</td>\n",
       "      <td>0.000000e+00</td>\n",
       "      <td>4.929600e+00</td>\n",
       "      <td>5.900000e-03</td>\n",
       "    </tr>\n",
       "    <tr>\n",
       "      <th>25%</th>\n",
       "      <td>6.000000e+00</td>\n",
       "      <td>3.751590e+01</td>\n",
       "      <td>0.000000e+00</td>\n",
       "      <td>0.000000e+00</td>\n",
       "      <td>2.925070e+01</td>\n",
       "      <td>1.059000e-01</td>\n",
       "    </tr>\n",
       "    <tr>\n",
       "      <th>50%</th>\n",
       "      <td>1.200000e+01</td>\n",
       "      <td>5.845500e+01</td>\n",
       "      <td>0.000000e+00</td>\n",
       "      <td>0.000000e+00</td>\n",
       "      <td>4.576990e+01</td>\n",
       "      <td>2.186000e-01</td>\n",
       "    </tr>\n",
       "    <tr>\n",
       "      <th>75%</th>\n",
       "      <td>1.700000e+01</td>\n",
       "      <td>8.053695e+01</td>\n",
       "      <td>0.000000e+00</td>\n",
       "      <td>0.000000e+00</td>\n",
       "      <td>6.589690e+01</td>\n",
       "      <td>3.961000e-01</td>\n",
       "    </tr>\n",
       "    <tr>\n",
       "      <th>max</th>\n",
       "      <td>2.300000e+01</td>\n",
       "      <td>1.630886e+02</td>\n",
       "      <td>1.000000e+00</td>\n",
       "      <td>1.000000e+00</td>\n",
       "      <td>1.899489e+02</td>\n",
       "      <td>3.377600e+00</td>\n",
       "    </tr>\n",
       "  </tbody>\n",
       "</table>\n",
       "</div>"
      ],
      "text/plain": [
       "        Hour Of Day         Speed  Is Peak Hour  Random Event Occurred  \\\n",
       "count  1.048575e+06  1.048575e+06  1.048575e+06           1.048575e+06   \n",
       "mean   1.150741e+01  5.993168e+01  1.547329e-01           4.999356e-02   \n",
       "std    6.918308e+00  2.663434e+01  3.616500e-01           2.179318e-01   \n",
       "min    0.000000e+00  6.693400e+00  0.000000e+00           0.000000e+00   \n",
       "25%    6.000000e+00  3.751590e+01  0.000000e+00           0.000000e+00   \n",
       "50%    1.200000e+01  5.845500e+01  0.000000e+00           0.000000e+00   \n",
       "75%    1.700000e+01  8.053695e+01  0.000000e+00           0.000000e+00   \n",
       "max    2.300000e+01  1.630886e+02  1.000000e+00           1.000000e+00   \n",
       "\n",
       "       Energy Consumption  Traffic Density  \n",
       "count        1.048575e+06     1.048575e+06  \n",
       "mean         4.945187e+01     2.771250e-01  \n",
       "std          2.527329e+01     2.191737e-01  \n",
       "min          4.929600e+00     5.900000e-03  \n",
       "25%          2.925070e+01     1.059000e-01  \n",
       "50%          4.576990e+01     2.186000e-01  \n",
       "75%          6.589690e+01     3.961000e-01  \n",
       "max          1.899489e+02     3.377600e+00  "
      ]
     },
     "execution_count": 39,
     "metadata": {},
     "output_type": "execute_result"
    }
   ],
   "source": [
    "df.describe()"
   ]
  },
  {
   "cell_type": "markdown",
   "metadata": {},
   "source": [
    "## Data Visualization"
   ]
  },
  {
   "cell_type": "markdown",
   "metadata": {},
   "source": [
    "### What is the most used type of vehicle?"
   ]
  },
  {
   "cell_type": "code",
   "execution_count": 40,
   "metadata": {},
   "outputs": [
    {
     "data": {
      "text/html": [
       "<div>\n",
       "<style scoped>\n",
       "    .dataframe tbody tr th:only-of-type {\n",
       "        vertical-align: middle;\n",
       "    }\n",
       "\n",
       "    .dataframe tbody tr th {\n",
       "        vertical-align: top;\n",
       "    }\n",
       "\n",
       "    .dataframe thead th {\n",
       "        text-align: right;\n",
       "    }\n",
       "</style>\n",
       "<table border=\"1\" class=\"dataframe\">\n",
       "  <thead>\n",
       "    <tr style=\"text-align: right;\">\n",
       "      <th></th>\n",
       "      <th>Vehicle Type</th>\n",
       "      <th>count</th>\n",
       "    </tr>\n",
       "  </thead>\n",
       "  <tbody>\n",
       "    <tr>\n",
       "      <th>0</th>\n",
       "      <td>Autonomous Vehicle</td>\n",
       "      <td>651424</td>\n",
       "    </tr>\n",
       "    <tr>\n",
       "      <th>1</th>\n",
       "      <td>Drone</td>\n",
       "      <td>262182</td>\n",
       "    </tr>\n",
       "    <tr>\n",
       "      <th>2</th>\n",
       "      <td>Flying Car</td>\n",
       "      <td>67701</td>\n",
       "    </tr>\n",
       "    <tr>\n",
       "      <th>3</th>\n",
       "      <td>Car</td>\n",
       "      <td>67268</td>\n",
       "    </tr>\n",
       "  </tbody>\n",
       "</table>\n",
       "</div>"
      ],
      "text/plain": [
       "         Vehicle Type   count\n",
       "0  Autonomous Vehicle  651424\n",
       "1               Drone  262182\n",
       "2          Flying Car   67701\n",
       "3                 Car   67268"
      ]
     },
     "execution_count": 40,
     "metadata": {},
     "output_type": "execute_result"
    }
   ],
   "source": [
    "# Most used type of vehicle\n",
    "most_used_vehicle = df['Vehicle Type'].value_counts().nlargest(4).reset_index()\n",
    "most_used_vehicle"
   ]
  },
  {
   "cell_type": "code",
   "execution_count": 41,
   "metadata": {},
   "outputs": [
    {
     "name": "stderr",
     "output_type": "stream",
     "text": [
      "C:\\Users\\Aleyne\\AppData\\Local\\Temp\\ipykernel_1772\\3392914608.py:4: FutureWarning: \n",
      "\n",
      "Passing `palette` without assigning `hue` is deprecated and will be removed in v0.14.0. Assign the `x` variable to `hue` and set `legend=False` for the same effect.\n",
      "\n",
      "  sns.barplot(x='Vehicle Type', y='count', data= most_used_vehicle, palette='rocket')\n"
     ]
    },
    {
     "data": {
      "text/plain": [
       "([0, 1, 2, 3],\n",
       " [Text(0, 0, 'Autonomous Vehicle'),\n",
       "  Text(1, 0, 'Drone'),\n",
       "  Text(2, 0, 'Flying Car'),\n",
       "  Text(3, 0, 'Car')])"
      ]
     },
     "execution_count": 41,
     "metadata": {},
     "output_type": "execute_result"
    },
    {
     "data": {
      "image/png": "[encoded data removed]",
      "text/plain": [
       "<Figure size 640x480 with 1 Axes>"
      ]
     },
     "metadata": {},
     "output_type": "display_data"
    }
   ],
   "source": [
    "# Visualize the most used type\n",
    "most_used_vehicle_columns = ['Vehicle Type', 'count']\n",
    "\n",
    "sns.barplot(x='Vehicle Type', y='count', data= most_used_vehicle, palette='rocket')\n",
    "plt.title('Most Used Vehicles')\n",
    "plt.xlabel('Vehicles')\n",
    "plt.ylabel('Quantity')\n",
    "plt.xticks(rotation = 15)"
   ]
  },
  {
   "cell_type": "markdown",
   "metadata": {},
   "source": [
    "### Report\n",
    "\n",
    "Detailed analysis of the bar chart showing the types of vehicles most commonly used in a futuristic city reveals several important conclusions and suggests some recommendations.\n",
    "\n",
    "The high number of \"Autonomous Vehicles\" indicates a clear preference for advanced technology and automation in urban transportation. This suggests that the futuristic city is adopting innovative solutions to improve mobility and traffic efficiency.\n",
    "\n",
    "The significant presence of \"Drones\" and \"Flying Cars\" suggests an interest in aerial transportation within the city. This could indicate a focus on vertical mobility to overcome congestion challenges on roadways and improve connectivity in the city.\n",
    "\n",
    "Despite the predominance of advanced vehicles, the presence of conventional \"Cars\" shows that there is still a demand for traditional modes of transport. This suggests the importance of maintaining a balance between technological innovation and traditional infrastructure to meet the needs of all users.\n",
    "\n",
    "In terms of recommendations, it is suggested to invest in adequate infrastructure to support autonomous and aerial vehicle systems, establish clear regulations for their safe operation, implement safety measures to protect users and pedestrians, and promote sustainable mobility by encouraging the use of electric vehicles and the adoption of environmentally friendly practices in urban transportation.\n"
   ]
  },
  {
   "cell_type": "markdown",
   "metadata": {},
   "source": [
    "### What is the distribution of traffic density in the different cities?"
   ]
  },
  {
   "cell_type": "code",
   "execution_count": 56,
   "metadata": {},
   "outputs": [
    {
     "data": {
      "image/png": "[encoded data removed]",
      "text/plain": [
       "<Figure size 640x480 with 1 Axes>"
      ]
     },
     "metadata": {},
     "output_type": "display_data"
    }
   ],
   "source": [
    "# Traffic density\n",
    "\n",
    "df.groupby('City')['Traffic Density'].mean().plot(marker = 'o', c='#710845')\n",
    "plt.title('Cities vs Average Traffic Density')\n",
    "plt.xlabel('Cities')\n",
    "plt.ylabel('Traffic Density Average');"
   ]
  },
  {
   "cell_type": "markdown",
   "metadata": {},
   "source": [
    "### Report\n",
    "\n",
    "The graphic shows the average density in six different futuristic cities. Each city is represented on the horizontal axis, while the average traffic density is shown on the vertical axis.\n",
    "Aqua City and MetropolisX have the highest average traffic density, indicating a significantly congested traffic situation. It is crucial to implement effective measures to improve traffic flow and ensure efficient mobility.\n",
    "Ecoopolis and TechHaven present an average traffic density, showing a moderate traffic situation. It is possible that these cities have implemented urban planning measures to manage the flow of vehicles effectively.\n",
    "SolarisVille ranks in the upper-intermediate level in terms of average traffic density. This city could benefit from traffic management and urban planning strategies to optimize mobility and reduce congestion.\n",
    "Neuroburg with a lower average traffic density shows lower road congestion compared to the other cities analyzed. This could indicate an efficient urban design that promotes traffic flow and sustainable mobility.\n",
    "\n",
    "The analysis reveals significant variations in traffic density among futuristic cities, suggesting the importance of approaching traffic management in a manner tailored to the needs of each city.\n",
    "Differences in traffic density may be influenced by factors such as urban design, transportation planning, population growth, and available road infrastructure.\n",
    "\n",
    "Addressing these differences can take into account considerations such as implementing efficient public transport systems to reduce reliance on private vehicles and alleviate traffic congestion.\n",
    "Investing in smart infrastructure and traffic management technologies to improve traffic flow and safety. Conduct periodic mobility and traffic studies to identify areas for improvement and make informed decisions in urban planning.\n"
   ]
  }
 ],
 "metadata": {
  "kernelspec": {
   "display_name": "Python 3",
   "language": "python",
   "name": "python3"
  },
  "language_info": {
   "codemirror_mode": {
    "name": "ipython",
    "version": 3
   },
   "file_extension": ".py",
   "mimetype": "text/x-python",
   "name": "python",
   "nbconvert_exporter": "python",
   "pygments_lexer": "ipython3",
   "version": "3.12.0"
  }
 },
 "nbformat": 4,
 "nbformat_minor": 2
}
