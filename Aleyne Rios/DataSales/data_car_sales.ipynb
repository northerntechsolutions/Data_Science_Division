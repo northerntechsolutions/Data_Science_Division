{
 "cells": [
  {
   "cell_type": "markdown",
   "metadata": {},
   "source": [
    "## Car Sales\n",
    "This notebook is about car sales data from a car dealership over the curse of the two last years. The Dataset contains at least 2.000.000 rows. \n",
    "\n",
    "The analysis of this Dataset will allow us to understand the car sales trend over the time, the performance of individual salespeople in the dealership, to predict sales performance and analyizing the impact of differents factors on car sales, such as car make, model, year, and salesperson performance.\n",
    "\n",
    "The Dataset includes nine columns of data for each car sale, such as Date, Car Make, Car Model.\n",
    "\n",
    "\n",
    "**Content:**\n",
    "\n",
    "1. Data Exploration.\n",
    "2. Data Visualization.\n",
    "\n",
    "**Features:**\n",
    "\n",
    "1. **Date:** The date of the car sale.\n",
    "2. **Salesperson:** The name of the salesperson who made the sale.\n",
    "3. **Customer Name:** The name of the customer who purchased the car.\n",
    "4. **Car Make:** The make of the car that was purchased.\n",
    "5. **Car Model:** The model of the car that was purchased.\n",
    "6. **Car Year:** The year of the car that was purchased.\n",
    "7. **Sale Price:** The sale price of the car in USD.\n",
    "8. **Commission Rate:** The commission rate paid to the salesperson on the sale.\n",
    "9. **Commission Earned:** The amount of commission earned by the salesperson on the sale.\n",
    "\n",
    "## Questions to Be Answered with the Dataset\n",
    "1. Who were the salespeople who made the most sales during the year?\n",
    "2. What are the best-selling car models at the dealership?\n",
    "3. What is the distribution of sales by car brand throughout the year?\n"
   ]
  },
  {
   "cell_type": "code",
   "execution_count": 1,
   "metadata": {},
   "outputs": [],
   "source": [
    "#Import necessary libraries\n",
    "import numpy as np\n",
    "import pandas as pd\n",
    "import seaborn as sns\n",
    "import matplotlib.pyplot as plt"
   ]
  },
  {
   "cell_type": "code",
   "execution_count": 2,
   "metadata": {},
   "outputs": [],
   "source": [
    "#Read the csv file\n",
    "df = pd.read_csv(\"car_sales_data.csv\")"
   ]
  },
  {
   "cell_type": "markdown",
   "metadata": {},
   "source": [
    "## Data Exploration"
   ]
  },
  {
   "cell_type": "code",
   "execution_count": 3,
   "metadata": {},
   "outputs": [
    {
     "data": {
      "text/html": [
       "<div>\n",
       "<style scoped>\n",
       "    .dataframe tbody tr th:only-of-type {\n",
       "        vertical-align: middle;\n",
       "    }\n",
       "\n",
       "    .dataframe tbody tr th {\n",
       "        vertical-align: top;\n",
       "    }\n",
       "\n",
       "    .dataframe thead th {\n",
       "        text-align: right;\n",
       "    }\n",
       "</style>\n",
       "<table border=\"1\" class=\"dataframe\">\n",
       "  <thead>\n",
       "    <tr style=\"text-align: right;\">\n",
       "      <th></th>\n",
       "      <th>Date</th>\n",
       "      <th>Salesperson</th>\n",
       "      <th>Customer Name</th>\n",
       "      <th>Car Make</th>\n",
       "      <th>Car Model</th>\n",
       "      <th>Car Year</th>\n",
       "      <th>Sale Price</th>\n",
       "      <th>Commission Rate</th>\n",
       "      <th>Commission Earned</th>\n",
       "    </tr>\n",
       "  </thead>\n",
       "  <tbody>\n",
       "    <tr>\n",
       "      <th>0</th>\n",
       "      <td>8/1/2022</td>\n",
       "      <td>Monica Moore MD</td>\n",
       "      <td>Mary Butler</td>\n",
       "      <td>Nissan</td>\n",
       "      <td>Altima</td>\n",
       "      <td>2018</td>\n",
       "      <td>15983</td>\n",
       "      <td>0.070495</td>\n",
       "      <td>1126.73</td>\n",
       "    </tr>\n",
       "    <tr>\n",
       "      <th>1</th>\n",
       "      <td>3/15/2023</td>\n",
       "      <td>Roberto Rose</td>\n",
       "      <td>Richard Pierce</td>\n",
       "      <td>Nissan</td>\n",
       "      <td>F-150</td>\n",
       "      <td>2016</td>\n",
       "      <td>38474</td>\n",
       "      <td>0.134439</td>\n",
       "      <td>5172.40</td>\n",
       "    </tr>\n",
       "    <tr>\n",
       "      <th>2</th>\n",
       "      <td>4/29/2023</td>\n",
       "      <td>Ashley Ramos</td>\n",
       "      <td>Sandra Moore</td>\n",
       "      <td>Ford</td>\n",
       "      <td>Civic</td>\n",
       "      <td>2016</td>\n",
       "      <td>33340</td>\n",
       "      <td>0.114536</td>\n",
       "      <td>3818.63</td>\n",
       "    </tr>\n",
       "    <tr>\n",
       "      <th>3</th>\n",
       "      <td>9/4/2022</td>\n",
       "      <td>Patrick Harris</td>\n",
       "      <td>Johnny Scott</td>\n",
       "      <td>Ford</td>\n",
       "      <td>Altima</td>\n",
       "      <td>2013</td>\n",
       "      <td>41937</td>\n",
       "      <td>0.092191</td>\n",
       "      <td>3866.20</td>\n",
       "    </tr>\n",
       "    <tr>\n",
       "      <th>4</th>\n",
       "      <td>6/16/2022</td>\n",
       "      <td>Eric Lopez</td>\n",
       "      <td>Vanessa Jones</td>\n",
       "      <td>Honda</td>\n",
       "      <td>Silverado</td>\n",
       "      <td>2022</td>\n",
       "      <td>20256</td>\n",
       "      <td>0.113490</td>\n",
       "      <td>2298.85</td>\n",
       "    </tr>\n",
       "  </tbody>\n",
       "</table>\n",
       "</div>"
      ],
      "text/plain": [
       "        Date      Salesperson   Customer Name Car Make  Car Model  Car Year  \\\n",
       "0   8/1/2022  Monica Moore MD     Mary Butler   Nissan     Altima      2018   \n",
       "1  3/15/2023     Roberto Rose  Richard Pierce   Nissan      F-150      2016   \n",
       "2  4/29/2023     Ashley Ramos    Sandra Moore     Ford      Civic      2016   \n",
       "3   9/4/2022   Patrick Harris    Johnny Scott     Ford     Altima      2013   \n",
       "4  6/16/2022       Eric Lopez   Vanessa Jones    Honda  Silverado      2022   \n",
       "\n",
       "   Sale Price  Commission Rate  Commission Earned  \n",
       "0       15983         0.070495            1126.73  \n",
       "1       38474         0.134439            5172.40  \n",
       "2       33340         0.114536            3818.63  \n",
       "3       41937         0.092191            3866.20  \n",
       "4       20256         0.113490            2298.85  "
      ]
     },
     "execution_count": 3,
     "metadata": {},
     "output_type": "execute_result"
    }
   ],
   "source": [
    "#Show the first few records\n",
    "df.head()"
   ]
  },
  {
   "cell_type": "code",
   "execution_count": 4,
   "metadata": {},
   "outputs": [
    {
     "data": {
      "text/plain": [
       "(180454, 9)"
      ]
     },
     "execution_count": 4,
     "metadata": {},
     "output_type": "execute_result"
    }
   ],
   "source": [
    "#Get the numbers of records and columns\n",
    "df.shape"
   ]
  },
  {
   "cell_type": "code",
   "execution_count": 5,
   "metadata": {},
   "outputs": [
    {
     "name": "stdout",
     "output_type": "stream",
     "text": [
      "<class 'pandas.core.frame.DataFrame'>\n",
      "RangeIndex: 180454 entries, 0 to 180453\n",
      "Data columns (total 9 columns):\n",
      " #   Column             Non-Null Count   Dtype  \n",
      "---  ------             --------------   -----  \n",
      " 0   Date               180454 non-null  object \n",
      " 1   Salesperson        180454 non-null  object \n",
      " 2   Customer Name      180454 non-null  object \n",
      " 3   Car Make           180454 non-null  object \n",
      " 4   Car Model          180454 non-null  object \n",
      " 5   Car Year           180454 non-null  int64  \n",
      " 6   Sale Price         180454 non-null  int64  \n",
      " 7   Commission Rate    180454 non-null  float64\n",
      " 8   Commission Earned  180454 non-null  float64\n",
      "dtypes: float64(2), int64(2), object(5)\n",
      "memory usage: 12.4+ MB\n"
     ]
    }
   ],
   "source": [
    "#Get concise sumary dataframe\n",
    "df.info()"
   ]
  },
  {
   "cell_type": "code",
   "execution_count": 6,
   "metadata": {},
   "outputs": [
    {
     "data": {
      "text/plain": [
       "Date                 0\n",
       "Salesperson          0\n",
       "Customer Name        0\n",
       "Car Make             0\n",
       "Car Model            0\n",
       "Car Year             0\n",
       "Sale Price           0\n",
       "Commission Rate      0\n",
       "Commission Earned    0\n",
       "dtype: int64"
      ]
     },
     "execution_count": 6,
     "metadata": {},
     "output_type": "execute_result"
    }
   ],
   "source": [
    "#Check missing values\n",
    "df.isnull().sum()"
   ]
  },
  {
   "cell_type": "code",
   "execution_count": 7,
   "metadata": {},
   "outputs": [
    {
     "data": {
      "text/plain": [
       "0"
      ]
     },
     "execution_count": 7,
     "metadata": {},
     "output_type": "execute_result"
    }
   ],
   "source": [
    "#Check duplicated values\n",
    "df.duplicated().sum()"
   ]
  },
  {
   "cell_type": "code",
   "execution_count": 8,
   "metadata": {},
   "outputs": [
    {
     "data": {
      "text/html": [
       "<div>\n",
       "<style scoped>\n",
       "    .dataframe tbody tr th:only-of-type {\n",
       "        vertical-align: middle;\n",
       "    }\n",
       "\n",
       "    .dataframe tbody tr th {\n",
       "        vertical-align: top;\n",
       "    }\n",
       "\n",
       "    .dataframe thead th {\n",
       "        text-align: right;\n",
       "    }\n",
       "</style>\n",
       "<table border=\"1\" class=\"dataframe\">\n",
       "  <thead>\n",
       "    <tr style=\"text-align: right;\">\n",
       "      <th></th>\n",
       "      <th>Car Year</th>\n",
       "      <th>Sale Price</th>\n",
       "      <th>Commission Rate</th>\n",
       "      <th>Commission Earned</th>\n",
       "    </tr>\n",
       "  </thead>\n",
       "  <tbody>\n",
       "    <tr>\n",
       "      <th>count</th>\n",
       "      <td>180454.000000</td>\n",
       "      <td>180454.000000</td>\n",
       "      <td>180454.000000</td>\n",
       "      <td>180454.000000</td>\n",
       "    </tr>\n",
       "    <tr>\n",
       "      <th>mean</th>\n",
       "      <td>2015.991289</td>\n",
       "      <td>30012.500488</td>\n",
       "      <td>0.099982</td>\n",
       "      <td>3001.450472</td>\n",
       "    </tr>\n",
       "    <tr>\n",
       "      <th>std</th>\n",
       "      <td>3.740299</td>\n",
       "      <td>11552.528440</td>\n",
       "      <td>0.028814</td>\n",
       "      <td>1482.262483</td>\n",
       "    </tr>\n",
       "    <tr>\n",
       "      <th>min</th>\n",
       "      <td>2010.000000</td>\n",
       "      <td>10000.000000</td>\n",
       "      <td>0.050001</td>\n",
       "      <td>507.220000</td>\n",
       "    </tr>\n",
       "    <tr>\n",
       "      <th>25%</th>\n",
       "      <td>2013.000000</td>\n",
       "      <td>20026.000000</td>\n",
       "      <td>0.075055</td>\n",
       "      <td>1820.347500</td>\n",
       "    </tr>\n",
       "    <tr>\n",
       "      <th>50%</th>\n",
       "      <td>2016.000000</td>\n",
       "      <td>29999.000000</td>\n",
       "      <td>0.099983</td>\n",
       "      <td>2743.010000</td>\n",
       "    </tr>\n",
       "    <tr>\n",
       "      <th>75%</th>\n",
       "      <td>2019.000000</td>\n",
       "      <td>40043.000000</td>\n",
       "      <td>0.124932</td>\n",
       "      <td>3979.537500</td>\n",
       "    </tr>\n",
       "    <tr>\n",
       "      <th>max</th>\n",
       "      <td>2022.000000</td>\n",
       "      <td>50000.000000</td>\n",
       "      <td>0.149999</td>\n",
       "      <td>7489.190000</td>\n",
       "    </tr>\n",
       "  </tbody>\n",
       "</table>\n",
       "</div>"
      ],
      "text/plain": [
       "            Car Year     Sale Price  Commission Rate  Commission Earned\n",
       "count  180454.000000  180454.000000    180454.000000      180454.000000\n",
       "mean     2015.991289   30012.500488         0.099982        3001.450472\n",
       "std         3.740299   11552.528440         0.028814        1482.262483\n",
       "min      2010.000000   10000.000000         0.050001         507.220000\n",
       "25%      2013.000000   20026.000000         0.075055        1820.347500\n",
       "50%      2016.000000   29999.000000         0.099983        2743.010000\n",
       "75%      2019.000000   40043.000000         0.124932        3979.537500\n",
       "max      2022.000000   50000.000000         0.149999        7489.190000"
      ]
     },
     "execution_count": 8,
     "metadata": {},
     "output_type": "execute_result"
    }
   ],
   "source": [
    "df.describe()"
   ]
  },
  {
   "cell_type": "code",
   "execution_count": 9,
   "metadata": {},
   "outputs": [
    {
     "data": {
      "text/html": [
       "<div>\n",
       "<style scoped>\n",
       "    .dataframe tbody tr th:only-of-type {\n",
       "        vertical-align: middle;\n",
       "    }\n",
       "\n",
       "    .dataframe tbody tr th {\n",
       "        vertical-align: top;\n",
       "    }\n",
       "\n",
       "    .dataframe thead th {\n",
       "        text-align: right;\n",
       "    }\n",
       "</style>\n",
       "<table border=\"1\" class=\"dataframe\">\n",
       "  <thead>\n",
       "    <tr style=\"text-align: right;\">\n",
       "      <th></th>\n",
       "      <th>Date</th>\n",
       "      <th>Salesperson</th>\n",
       "      <th>Customer Name</th>\n",
       "      <th>Car Make</th>\n",
       "      <th>Car Model</th>\n",
       "      <th>Car Year</th>\n",
       "      <th>Sale Price</th>\n",
       "      <th>Commission Rate</th>\n",
       "      <th>Commission Earned</th>\n",
       "    </tr>\n",
       "  </thead>\n",
       "  <tbody>\n",
       "    <tr>\n",
       "      <th>33751</th>\n",
       "      <td>10/31/2022</td>\n",
       "      <td>Emily King</td>\n",
       "      <td>Derek Cisneros</td>\n",
       "      <td>Nissan</td>\n",
       "      <td>Altima</td>\n",
       "      <td>2012</td>\n",
       "      <td>10000</td>\n",
       "      <td>0.130833</td>\n",
       "      <td>1308.33</td>\n",
       "    </tr>\n",
       "    <tr>\n",
       "      <th>52503</th>\n",
       "      <td>5/30/2022</td>\n",
       "      <td>Marcus Christensen</td>\n",
       "      <td>Eric Hernandez</td>\n",
       "      <td>Nissan</td>\n",
       "      <td>Silverado</td>\n",
       "      <td>2020</td>\n",
       "      <td>10000</td>\n",
       "      <td>0.098027</td>\n",
       "      <td>980.27</td>\n",
       "    </tr>\n",
       "    <tr>\n",
       "      <th>78199</th>\n",
       "      <td>4/6/2023</td>\n",
       "      <td>Jeffrey Hodges</td>\n",
       "      <td>Jenna Bullock</td>\n",
       "      <td>Nissan</td>\n",
       "      <td>Civic</td>\n",
       "      <td>2017</td>\n",
       "      <td>10000</td>\n",
       "      <td>0.095645</td>\n",
       "      <td>956.45</td>\n",
       "    </tr>\n",
       "    <tr>\n",
       "      <th>140732</th>\n",
       "      <td>10/31/2022</td>\n",
       "      <td>Chloe Robinson</td>\n",
       "      <td>Stephanie Horton</td>\n",
       "      <td>Toyota</td>\n",
       "      <td>Civic</td>\n",
       "      <td>2018</td>\n",
       "      <td>10000</td>\n",
       "      <td>0.135709</td>\n",
       "      <td>1357.09</td>\n",
       "    </tr>\n",
       "  </tbody>\n",
       "</table>\n",
       "</div>"
      ],
      "text/plain": [
       "              Date         Salesperson     Customer Name Car Make  Car Model  \\\n",
       "33751   10/31/2022          Emily King    Derek Cisneros   Nissan     Altima   \n",
       "52503    5/30/2022  Marcus Christensen    Eric Hernandez   Nissan  Silverado   \n",
       "78199     4/6/2023      Jeffrey Hodges     Jenna Bullock   Nissan      Civic   \n",
       "140732  10/31/2022      Chloe Robinson  Stephanie Horton   Toyota      Civic   \n",
       "\n",
       "        Car Year  Sale Price  Commission Rate  Commission Earned  \n",
       "33751       2012       10000         0.130833            1308.33  \n",
       "52503       2020       10000         0.098027             980.27  \n",
       "78199       2017       10000         0.095645             956.45  \n",
       "140732      2018       10000         0.135709            1357.09  "
      ]
     },
     "execution_count": 9,
     "metadata": {},
     "output_type": "execute_result"
    }
   ],
   "source": [
    "df[df['Sale Price'] == 10000]"
   ]
  },
  {
   "cell_type": "code",
   "execution_count": 10,
   "metadata": {},
   "outputs": [
    {
     "data": {
      "text/html": [
       "<div>\n",
       "<style scoped>\n",
       "    .dataframe tbody tr th:only-of-type {\n",
       "        vertical-align: middle;\n",
       "    }\n",
       "\n",
       "    .dataframe tbody tr th {\n",
       "        vertical-align: top;\n",
       "    }\n",
       "\n",
       "    .dataframe thead th {\n",
       "        text-align: right;\n",
       "    }\n",
       "</style>\n",
       "<table border=\"1\" class=\"dataframe\">\n",
       "  <thead>\n",
       "    <tr style=\"text-align: right;\">\n",
       "      <th></th>\n",
       "      <th>Date</th>\n",
       "      <th>Salesperson</th>\n",
       "      <th>Customer Name</th>\n",
       "      <th>Car Make</th>\n",
       "      <th>Car Model</th>\n",
       "      <th>Car Year</th>\n",
       "      <th>Sale Price</th>\n",
       "      <th>Commission Rate</th>\n",
       "      <th>Commission Earned</th>\n",
       "    </tr>\n",
       "  </thead>\n",
       "  <tbody>\n",
       "    <tr>\n",
       "      <th>76249</th>\n",
       "      <td>4/26/2023</td>\n",
       "      <td>Dr. Angela Becker</td>\n",
       "      <td>Keith Cook</td>\n",
       "      <td>Nissan</td>\n",
       "      <td>F-150</td>\n",
       "      <td>2013</td>\n",
       "      <td>50000</td>\n",
       "      <td>0.109119</td>\n",
       "      <td>5455.96</td>\n",
       "    </tr>\n",
       "    <tr>\n",
       "      <th>79326</th>\n",
       "      <td>9/27/2022</td>\n",
       "      <td>Debra Lee</td>\n",
       "      <td>Amy King</td>\n",
       "      <td>Chevrolet</td>\n",
       "      <td>Altima</td>\n",
       "      <td>2014</td>\n",
       "      <td>50000</td>\n",
       "      <td>0.072058</td>\n",
       "      <td>3602.88</td>\n",
       "    </tr>\n",
       "    <tr>\n",
       "      <th>83733</th>\n",
       "      <td>6/23/2022</td>\n",
       "      <td>Erica Mejia</td>\n",
       "      <td>Travis Orr</td>\n",
       "      <td>Nissan</td>\n",
       "      <td>F-150</td>\n",
       "      <td>2014</td>\n",
       "      <td>50000</td>\n",
       "      <td>0.143951</td>\n",
       "      <td>7197.53</td>\n",
       "    </tr>\n",
       "    <tr>\n",
       "      <th>128547</th>\n",
       "      <td>3/14/2023</td>\n",
       "      <td>Bradley Jackson</td>\n",
       "      <td>Heather Campbell</td>\n",
       "      <td>Honda</td>\n",
       "      <td>Civic</td>\n",
       "      <td>2015</td>\n",
       "      <td>50000</td>\n",
       "      <td>0.090642</td>\n",
       "      <td>4532.08</td>\n",
       "    </tr>\n",
       "    <tr>\n",
       "      <th>130649</th>\n",
       "      <td>9/14/2022</td>\n",
       "      <td>Elizabeth Montgomery</td>\n",
       "      <td>Jordan Smith</td>\n",
       "      <td>Nissan</td>\n",
       "      <td>Silverado</td>\n",
       "      <td>2012</td>\n",
       "      <td>50000</td>\n",
       "      <td>0.133554</td>\n",
       "      <td>6677.69</td>\n",
       "    </tr>\n",
       "  </tbody>\n",
       "</table>\n",
       "</div>"
      ],
      "text/plain": [
       "             Date           Salesperson     Customer Name   Car Make  \\\n",
       "76249   4/26/2023     Dr. Angela Becker        Keith Cook     Nissan   \n",
       "79326   9/27/2022             Debra Lee          Amy King  Chevrolet   \n",
       "83733   6/23/2022           Erica Mejia        Travis Orr     Nissan   \n",
       "128547  3/14/2023       Bradley Jackson  Heather Campbell      Honda   \n",
       "130649  9/14/2022  Elizabeth Montgomery      Jordan Smith     Nissan   \n",
       "\n",
       "        Car Model  Car Year  Sale Price  Commission Rate  Commission Earned  \n",
       "76249       F-150      2013       50000         0.109119            5455.96  \n",
       "79326      Altima      2014       50000         0.072058            3602.88  \n",
       "83733       F-150      2014       50000         0.143951            7197.53  \n",
       "128547      Civic      2015       50000         0.090642            4532.08  \n",
       "130649  Silverado      2012       50000         0.133554            6677.69  "
      ]
     },
     "execution_count": 10,
     "metadata": {},
     "output_type": "execute_result"
    }
   ],
   "source": [
    "df[df['Sale Price'] == 50000]"
   ]
  },
  {
   "cell_type": "markdown",
   "metadata": {},
   "source": [
    "## Data Visualization"
   ]
  },
  {
   "cell_type": "markdown",
   "metadata": {},
   "source": [
    "### Who were the salespeople who made the most sales during the year?"
   ]
  },
  {
   "cell_type": "code",
   "execution_count": 11,
   "metadata": {},
   "outputs": [
    {
     "data": {
      "text/html": [
       "<div>\n",
       "<style scoped>\n",
       "    .dataframe tbody tr th:only-of-type {\n",
       "        vertical-align: middle;\n",
       "    }\n",
       "\n",
       "    .dataframe tbody tr th {\n",
       "        vertical-align: top;\n",
       "    }\n",
       "\n",
       "    .dataframe thead th {\n",
       "        text-align: right;\n",
       "    }\n",
       "</style>\n",
       "<table border=\"1\" class=\"dataframe\">\n",
       "  <thead>\n",
       "    <tr style=\"text-align: right;\">\n",
       "      <th></th>\n",
       "      <th>Salesperson</th>\n",
       "      <th>count</th>\n",
       "    </tr>\n",
       "  </thead>\n",
       "  <tbody>\n",
       "    <tr>\n",
       "      <th>0</th>\n",
       "      <td>Michael Smith</td>\n",
       "      <td>87</td>\n",
       "    </tr>\n",
       "    <tr>\n",
       "      <th>1</th>\n",
       "      <td>Michael Johnson</td>\n",
       "      <td>75</td>\n",
       "    </tr>\n",
       "    <tr>\n",
       "      <th>2</th>\n",
       "      <td>David Smith</td>\n",
       "      <td>64</td>\n",
       "    </tr>\n",
       "    <tr>\n",
       "      <th>3</th>\n",
       "      <td>Michael Williams</td>\n",
       "      <td>63</td>\n",
       "    </tr>\n",
       "    <tr>\n",
       "      <th>4</th>\n",
       "      <td>Michael Jones</td>\n",
       "      <td>62</td>\n",
       "    </tr>\n",
       "    <tr>\n",
       "      <th>5</th>\n",
       "      <td>James Smith</td>\n",
       "      <td>61</td>\n",
       "    </tr>\n",
       "    <tr>\n",
       "      <th>6</th>\n",
       "      <td>Jennifer Smith</td>\n",
       "      <td>55</td>\n",
       "    </tr>\n",
       "    <tr>\n",
       "      <th>7</th>\n",
       "      <td>Robert Smith</td>\n",
       "      <td>55</td>\n",
       "    </tr>\n",
       "    <tr>\n",
       "      <th>8</th>\n",
       "      <td>Michael Davis</td>\n",
       "      <td>52</td>\n",
       "    </tr>\n",
       "    <tr>\n",
       "      <th>9</th>\n",
       "      <td>William Smith</td>\n",
       "      <td>52</td>\n",
       "    </tr>\n",
       "  </tbody>\n",
       "</table>\n",
       "</div>"
      ],
      "text/plain": [
       "        Salesperson  count\n",
       "0     Michael Smith     87\n",
       "1   Michael Johnson     75\n",
       "2       David Smith     64\n",
       "3  Michael Williams     63\n",
       "4     Michael Jones     62\n",
       "5       James Smith     61\n",
       "6    Jennifer Smith     55\n",
       "7      Robert Smith     55\n",
       "8     Michael Davis     52\n",
       "9     William Smith     52"
      ]
     },
     "execution_count": 11,
     "metadata": {},
     "output_type": "execute_result"
    }
   ],
   "source": [
    "#People with most sales\n",
    "most_sales_people = df['Salesperson'].value_counts().nlargest(10).reset_index()\n",
    "most_sales_people"
   ]
  },
  {
   "cell_type": "code",
   "execution_count": 12,
   "metadata": {},
   "outputs": [
    {
     "name": "stderr",
     "output_type": "stream",
     "text": [
      "C:\\Users\\Aleyne\\AppData\\Local\\Temp\\ipykernel_10504\\3365880605.py:4: FutureWarning: \n",
      "\n",
      "Passing `palette` without assigning `hue` is deprecated and will be removed in v0.14.0. Assign the `x` variable to `hue` and set `legend=False` for the same effect.\n",
      "\n",
      "  sns.barplot(x='Salesperson', y= 'count', data=most_sales_people, palette='viridis')\n"
     ]
    },
    {
     "data": {
      "text/plain": [
       "([0, 1, 2, 3, 4, 5, 6, 7, 8, 9],\n",
       " [Text(0, 0, 'Michael Smith'),\n",
       "  Text(1, 0, 'Michael Johnson'),\n",
       "  Text(2, 0, 'David Smith'),\n",
       "  Text(3, 0, 'Michael Williams'),\n",
       "  Text(4, 0, 'Michael Jones'),\n",
       "  Text(5, 0, 'James Smith'),\n",
       "  Text(6, 0, 'Jennifer Smith'),\n",
       "  Text(7, 0, 'Robert Smith'),\n",
       "  Text(8, 0, 'Michael Davis'),\n",
       "  Text(9, 0, 'William Smith')])"
      ]
     },
     "execution_count": 12,
     "metadata": {},
     "output_type": "execute_result"
    },
    {
     "data": {
      "image/png": "[encoded data removed]",
      "text/plain": [
       "<Figure size 640x480 with 1 Axes>"
      ]
     },
     "metadata": {},
     "output_type": "display_data"
    }
   ],
   "source": [
    "#Visualize salespeople with most sales\n",
    "most_sales_people_columns = ['Salesperson', 'count']\n",
    "\n",
    "sns.barplot(x='Salesperson', y= 'count', data=most_sales_people, palette='viridis')\n",
    "plt.title('Salespeople with most sales')\n",
    "plt.xlabel('Salespeople')\n",
    "plt.ylabel('Sales Quantity')\n",
    "plt.xticks(rotation=45)"
   ]
  },
  {
   "cell_type": "markdown",
   "metadata": {},
   "source": [
    "### Report\n",
    "\n",
    "The graph shows the sales quantities of the best performing salespeople in a dealership.\n",
    "The corresponding number of sales achieved is listed with the name of the salesperson who made the sales during the specified period. This representation provides a clear view of the individual sales performance of each salesperson, highlighting their contributions to the overall sales success of the dealership.\n",
    "\n",
    "The graph allows a direct comparison of the sales quantities achieved by each salesperson, showing the top performers in terms of sales volume.\n",
    "It indicates each salesperson's effectiveness in closing deals, generating revenue and maintaining customer relationships. In addition, the different sales quantities demonstrate the consistency of high-performing companies in meeting sales targets over time.\n",
    "\n",
    "It is clear from the analysis of the data that salespeople such as Michael Smith, James Smith and others with significant amounts of sales have played a crucial role in increasing the dealership's sales performance.\n",
    "\n",
    "The distribution of sales quantities among salespeople provides valuable information about individual performance levels and highlights areas of strength within the sales team. In addition, the chart provides insight into the impactful sales strategies or approaches employed by top-performing salespeople that lead to higher sales volumes.\n",
    "\n",
    "To effectively leverage this data for company growth, it is recommended to recognize and reward top performing salespeople to motivate and retain talent within the team. Providing training programs and resources to improve skills can help improve overall performance. Implement a performance tracking system to monitor individual sales on a regular basis and encourage collaboration among team members to share best practices.\n",
    "\n",
    "By using insights gained from top-selling salespeople, companies can identify successful sales tactics, set realistic sales goals, motivate team members, and drive continuous improvement across the sales team. This data-driven approach can lead to improved performance, increased revenue generation and sustained success in the competitive dealership environment.\n"
   ]
  },
  {
   "cell_type": "markdown",
   "metadata": {},
   "source": [
    "### What are the best-selling models at the dealership?"
   ]
  },
  {
   "cell_type": "code",
   "execution_count": 13,
   "metadata": {},
   "outputs": [
    {
     "data": {
      "text/plain": [
       "Car Model\n",
       "Civic        36250\n",
       "Silverado    36098\n",
       "Corolla      36090\n",
       "F-150        36058\n",
       "Altima       35958\n",
       "Name: count, dtype: int64"
      ]
     },
     "execution_count": 13,
     "metadata": {},
     "output_type": "execute_result"
    }
   ],
   "source": [
    "#Best-selling car models\n",
    "best_selling_models = df['Car Model'].value_counts().nlargest(5)\n",
    "best_selling_models"
   ]
  },
  {
   "cell_type": "code",
   "execution_count": 14,
   "metadata": {},
   "outputs": [
    {
     "data": {
      "image/png": "[encoded data removed]",
      "text/plain": [
       "<Figure size 640x480 with 1 Axes>"
      ]
     },
     "metadata": {},
     "output_type": "display_data"
    }
   ],
   "source": [
    "#Visualize best-selling car models\n",
    "colors = sns.color_palette(\"viridis\")\n",
    "best_selling_models.plot(kind = 'pie', colors= colors, autopct = '%1.2f%%');"
   ]
  },
  {
   "cell_type": "markdown",
   "metadata": {},
   "source": [
    "### Report\n",
    "\n",
    "This graphic shows the distribution of sales of the most sold car models in the dealership. From the analysis of the data, it is possible to extract information on customer preferences and sales trends within the dealership.\n",
    "The graphic shows the sales distribution of five prominent car models: Civic, Silverado, Corolla, Altima and F-150. Each model accounts for approximately 20.0% of total sales, indicating a balanced demand among these popular models. Analysis of this chart provides insight into the competitive landscape and customer preferences within the dealership.\n",
    "\n",
    "The presence of multiple models with similar sales percentages highlights the diverse preferences among customers visiting the dealership. This diversity underscores the importance of offering a wide range of models to effectively meet different customer needs and preferences. The level playing field in terms of popularity of the selected models suggests that all have a strong customer base and each contributes significantly to overall sales.\n",
    "\n",
    "This equality indicates healthy competition among the models, ensuring that no one model overly dominates the market. Consistent model sales percentages throughout the year indicate a stable and predictable demand for these vehicles. This stability reflects customer confidence in the selected models and brand, providing a solid foundation for dealer operations.\n",
    "\n",
    "To improve sales and customer satisfaction, it is advisable to divide the customer market into smaller groups with similar characteristics and needs, i.e., perform detailed market segmentation. Tailor marketing strategies to communicate effectively to these segments to improve customer engagement and satisfaction. It is critical to ensure that all popular models receive fair and equitable promotion, thereby maximizing their sales potential. By providing appropriate attention and promotion to each model, you can capitalize on diverse customer preferences and stimulate overall sales growth.\n",
    "\n",
    "Analysis of this sales data serves several purposes, including optimizing inventory to effectively meet demand, strategic marketing planning based on customer preferences, making informed decisions for introducing new models or price adjustments, improving the customer experience through personalized offers, and competitive analysis to compare performance with rivals.\n",
    "\n",
    "In conclusion, a detailed analysis of this data field provides valuable insights into customer preferences, sales trends and strategic growth opportunities within dealership operations."
   ]
  },
  {
   "cell_type": "markdown",
   "metadata": {},
   "source": [
    "### What is the distribution of sales by car brand throughout the year?"
   ]
  },
  {
   "cell_type": "code",
   "execution_count": 15,
   "metadata": {},
   "outputs": [
    {
     "data": {
      "text/plain": [
       "Car Make\n",
       "Ford         36156\n",
       "Nissan       36139\n",
       "Chevrolet    36122\n",
       "Toyota       36051\n",
       "Honda        35986\n",
       "Name: count, dtype: int64"
      ]
     },
     "execution_count": 15,
     "metadata": {},
     "output_type": "execute_result"
    }
   ],
   "source": [
    "#Distributions of sales by brand\n",
    "distribution_by_brand = df['Car Make'].value_counts().nlargest(5)\n",
    "distribution_by_brand"
   ]
  },
  {
   "cell_type": "code",
   "execution_count": 16,
   "metadata": {},
   "outputs": [
    {
     "data": {
      "image/png": "[encoded data removed]",
      "text/plain": [
       "<Figure size 640x480 with 1 Axes>"
      ]
     },
     "metadata": {},
     "output_type": "display_data"
    }
   ],
   "source": [
    "#Visualization of the sales by brand\n",
    "colors = sns.color_palette(\"viridis\")\n",
    "distribution_by_brand.plot(kind = 'pie', colors= colors, autopct = '%1.2f%%');"
   ]
  }
 ],
 "metadata": {
  "kernelspec": {
   "display_name": "Python 3",
   "language": "python",
   "name": "python3"
  },
  "language_info": {
   "codemirror_mode": {
    "name": "ipython",
    "version": 3
   },
   "file_extension": ".py",
   "mimetype": "text/x-python",
   "name": "python",
   "nbconvert_exporter": "python",
   "pygments_lexer": "ipython3",
   "version": "3.12.0"
  }
 },
 "nbformat": 4,
 "nbformat_minor": 2
}
